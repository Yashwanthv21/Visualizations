{
 "cells": [
  {
   "cell_type": "code",
   "execution_count": 49,
   "metadata": {
    "ExecuteTime": {
     "end_time": "2020-07-13T08:19:19.568085Z",
     "start_time": "2020-07-13T08:19:19.562647Z"
    },
    "scrolled": true
   },
   "outputs": [],
   "source": [
    "# from svglib.svglib import svg2rlg\n",
    "# from reportlab.graphics import renderPDF, renderPM\n",
    "\n",
    "\n",
    "\n",
    "# import os\n",
    "\n",
    "# files = os.listdir('country-4x3/')\n",
    "# files = [e for e in files if '.svg' in e]\n",
    "\n",
    "# for file in files:\n",
    "#     name = file.split('.')[0]\n",
    "#     drawing = svg2rlg(\"country-4x3/{}.svg\".format(name))\n",
    "#     renderPM.drawToFile(drawing, \"country/{}.png\".format(name), fmt=\"PNG\")"
   ]
  },
  {
   "cell_type": "code",
   "execution_count": 50,
   "metadata": {
    "ExecuteTime": {
     "end_time": "2020-07-13T08:19:20.186921Z",
     "start_time": "2020-07-13T08:19:20.182899Z"
    }
   },
   "outputs": [],
   "source": [
    "import matplotlib.pyplot as plt\n",
    "import matplotlib.image as mpimg\n",
    "import cv2\n",
    "from iso3166 import countries"
   ]
  },
  {
   "cell_type": "code",
   "execution_count": 170,
   "metadata": {
    "ExecuteTime": {
     "end_time": "2020-07-13T14:56:25.994866Z",
     "start_time": "2020-07-13T14:56:25.683064Z"
    }
   },
   "outputs": [
    {
     "data": {
      "image/png": "[encoded data removed]",
      "text/plain": [
       "<Figure size 576x396 with 1 Axes>"
      ]
     },
     "metadata": {},
     "output_type": "display_data"
    }
   ],
   "source": [
    "map_dict = {'France': 'fr', 'USA': 'us', 'Spain': 'es', 'Italy': 'it'}\n",
    "\n",
    "def pos_image(x, y, pays, haut, bars, idx):\n",
    "    x0 = bars[idx].get_bbox().x0\n",
    "    y0 = bars[idx].get_bbox().y0\n",
    "\n",
    "    x1 = bars[idx].get_bbox().x1\n",
    "    y1 = bars[idx].get_bbox().y1\n",
    "    \n",
    "    fichier = \"country/\"\n",
    "    fichier += '{}.png'.format('in')\n",
    "    im = cv2.imread(fichier)\n",
    "    \n",
    "    r1, r2 = ax.get_xlim()\n",
    "    xw = (r2 - r1)/5\n",
    "    \n",
    "    im = ax.imshow(im, extent=(x1 + 0.2, x1 + xw, y0, y1 ), zorder=2)\n",
    "    ax.add_image(im)\n",
    "\n",
    "\n",
    "plt.style.use('seaborn')\n",
    "fig, ax = plt.subplots()\n",
    "\n",
    "\n",
    "liste_pays = [('France', 10), ('USA', 9), ('Spain', 5), ('Italy', 5)]\n",
    "\n",
    "X = [p[1] for p in liste_pays]\n",
    "Y = [p[0] for p in liste_pays]\n",
    "\n",
    "haut = .8\n",
    "r = ax.barh(y=Y, width=X, height=haut, zorder=1)\n",
    "\n",
    "ax.set_xlim(ax.get_xlim() )\n",
    "ax.set_ylim(ax.get_ylim())\n",
    "\n",
    "\n",
    "\n",
    "for idx, (pays, y) in enumerate(zip(liste_pays, y_bar)):\n",
    "    pos_image(pays[1], y, pays[0], haut, r, idx)\n",
    "\n",
    "plt.show()"
   ]
  },
  {
   "cell_type": "code",
   "execution_count": 171,
   "metadata": {
    "ExecuteTime": {
     "end_time": "2020-07-13T14:56:39.561598Z",
     "start_time": "2020-07-13T14:56:39.433905Z"
    },
    "code_folding": [
     2
    ]
   },
   "outputs": [
    {
     "data": {
      "image/png": "[encoded data removed]",
      "text/plain": [
       "<Figure size 576x396 with 1 Axes>"
      ]
     },
     "metadata": {},
     "output_type": "display_data"
    }
   ],
   "source": [
    "map_dict = {'France': 'fr', 'USA': 'us', 'Spain': 'es', 'Italy': 'it'}\n",
    "\n",
    "def pos_image(x, y, pays, haut):\n",
    "    fichier = \"country/\"\n",
    "    fichier += '{}.png'.format('in')\n",
    "    im = cv2.imread(fichier)\n",
    "    ratio = 4 / 3\n",
    "    w = ratio * haut\n",
    "    im = ax.imshow(im, extent=(x+0.2, x + 1, y, y + haut))\n",
    "    ax.add_image(im)\n",
    "\n",
    "\n",
    "plt.style.use('seaborn')\n",
    "fig, ax = plt.subplots()\n",
    "\n",
    "\n",
    "liste_pays = [('France', 10), ('USA', 9), ('Spain', 5), ('Italy', 5)]\n",
    "\n",
    "X = [p[1] for p in liste_pays]\n",
    "Y = [p[0] for p in liste_pays]\n",
    "\n",
    "haut = .8\n",
    "r = ax.barh(y=Y, width=X, height=haut, zorder=1)\n",
    "\n",
    "ax.set_xlim(ax.get_xlim() )\n",
    "# ax.set_ylim(ax.get_ylim())\n",
    "y_bar = [rectangle.get_y() for rectangle in r]\n",
    "# for pays, y in zip(liste_pays, y_bar):\n",
    "#     pos_image(pays[1], y, pays[0], haut)\n",
    "\n",
    "\n",
    "plt.show()"
   ]
  },
  {
   "cell_type": "code",
   "execution_count": 24,
   "metadata": {
    "ExecuteTime": {
     "end_time": "2020-07-13T05:05:08.047911Z",
     "start_time": "2020-07-13T05:05:08.042449Z"
    }
   },
   "outputs": [],
   "source": [
    "fichier = \"country/\"\n",
    "fichier += '{}.png'.format('us')\n",
    "im = cv2.imread(fichier)\n",
    "# im = cv2.resize(\n",
    "#     im, dsize=(5, 5), interpolation=cv2.INTER_CUBIC\n",
    "# )\n",
    "# print(im.shape)\n",
    "# ratio = 4 / 3\n",
    "# w = ratio * haut\n",
    "\n",
    "# ax.imshow(im,\n",
    "#           extent=(x - w, x, y, y + haut),\n",
    "#           zorder=2)"
   ]
  },
  {
   "cell_type": "code",
   "execution_count": 36,
   "metadata": {
    "ExecuteTime": {
     "end_time": "2020-07-13T05:08:18.197117Z",
     "start_time": "2020-07-13T05:08:18.190279Z"
    }
   },
   "outputs": [
    {
     "data": {
      "text/plain": [
       "['__class__',\n",
       " '__delattr__',\n",
       " '__dict__',\n",
       " '__dir__',\n",
       " '__doc__',\n",
       " '__eq__',\n",
       " '__format__',\n",
       " '__ge__',\n",
       " '__getattribute__',\n",
       " '__getstate__',\n",
       " '__gt__',\n",
       " '__hash__',\n",
       " '__init__',\n",
       " '__init_subclass__',\n",
       " '__le__',\n",
       " '__lt__',\n",
       " '__module__',\n",
       " '__ne__',\n",
       " '__new__',\n",
       " '__reduce__',\n",
       " '__reduce_ex__',\n",
       " '__repr__',\n",
       " '__setattr__',\n",
       " '__sizeof__',\n",
       " '__str__',\n",
       " '__subclasshook__',\n",
       " '__weakref__',\n",
       " '_agg_filter',\n",
       " '_alias_map',\n",
       " '_alpha',\n",
       " '_animated',\n",
       " '_antialiased',\n",
       " '_axes',\n",
       " '_bind_draw_path_function',\n",
       " '_capstyle',\n",
       " '_clipon',\n",
       " '_clippath',\n",
       " '_contains',\n",
       " '_convert_units',\n",
       " '_convert_xy_units',\n",
       " '_dashes',\n",
       " '_dashoffset',\n",
       " '_default_contains',\n",
       " '_edge_default',\n",
       " '_edgecolor',\n",
       " '_facecolor',\n",
       " '_fill',\n",
       " '_get_clipping_extent_bbox',\n",
       " '_gid',\n",
       " '_hatch',\n",
       " '_hatch_color',\n",
       " '_height',\n",
       " '_in_layout',\n",
       " '_joinstyle',\n",
       " '_label',\n",
       " '_linestyle',\n",
       " '_linewidth',\n",
       " '_mouseover',\n",
       " '_oid',\n",
       " '_original_edgecolor',\n",
       " '_original_facecolor',\n",
       " '_path_effects',\n",
       " '_picker',\n",
       " '_process_radius',\n",
       " '_prop_order',\n",
       " '_propobservers',\n",
       " '_rasterized',\n",
       " '_rect_transform',\n",
       " '_remove_method',\n",
       " '_set_edgecolor',\n",
       " '_set_facecolor',\n",
       " '_set_gc_clip',\n",
       " '_sketch',\n",
       " '_snap',\n",
       " '_stale',\n",
       " '_sticky_edges',\n",
       " '_transform',\n",
       " '_transformSet',\n",
       " '_update_patch_transform',\n",
       " '_update_x1',\n",
       " '_update_y1',\n",
       " '_url',\n",
       " '_us_dashes',\n",
       " '_visible',\n",
       " '_width',\n",
       " '_x0',\n",
       " '_x1',\n",
       " '_y0',\n",
       " '_y1',\n",
       " 'add_callback',\n",
       " 'aname',\n",
       " 'angle',\n",
       " 'axes',\n",
       " 'clipbox',\n",
       " 'contains',\n",
       " 'contains_point',\n",
       " 'contains_points',\n",
       " 'convert_xunits',\n",
       " 'convert_yunits',\n",
       " 'draw',\n",
       " 'eventson',\n",
       " 'figure',\n",
       " 'fill',\n",
       " 'findobj',\n",
       " 'format_cursor_data',\n",
       " 'get_aa',\n",
       " 'get_agg_filter',\n",
       " 'get_alpha',\n",
       " 'get_animated',\n",
       " 'get_antialiased',\n",
       " 'get_bbox',\n",
       " 'get_capstyle',\n",
       " 'get_children',\n",
       " 'get_clip_box',\n",
       " 'get_clip_on',\n",
       " 'get_clip_path',\n",
       " 'get_contains',\n",
       " 'get_cursor_data',\n",
       " 'get_data_transform',\n",
       " 'get_ec',\n",
       " 'get_edgecolor',\n",
       " 'get_extents',\n",
       " 'get_facecolor',\n",
       " 'get_fc',\n",
       " 'get_figure',\n",
       " 'get_fill',\n",
       " 'get_gid',\n",
       " 'get_hatch',\n",
       " 'get_height',\n",
       " 'get_in_layout',\n",
       " 'get_joinstyle',\n",
       " 'get_label',\n",
       " 'get_linestyle',\n",
       " 'get_linewidth',\n",
       " 'get_ls',\n",
       " 'get_lw',\n",
       " 'get_patch_transform',\n",
       " 'get_path',\n",
       " 'get_path_effects',\n",
       " 'get_picker',\n",
       " 'get_rasterized',\n",
       " 'get_sketch_params',\n",
       " 'get_snap',\n",
       " 'get_tightbbox',\n",
       " 'get_transform',\n",
       " 'get_transformed_clip_path_and_affine',\n",
       " 'get_url',\n",
       " 'get_verts',\n",
       " 'get_visible',\n",
       " 'get_width',\n",
       " 'get_window_extent',\n",
       " 'get_x',\n",
       " 'get_xy',\n",
       " 'get_y',\n",
       " 'get_zorder',\n",
       " 'have_units',\n",
       " 'is_transform_set',\n",
       " 'mouseover',\n",
       " 'pchanged',\n",
       " 'pick',\n",
       " 'pickable',\n",
       " 'properties',\n",
       " 'remove',\n",
       " 'remove_callback',\n",
       " 'set',\n",
       " 'set_aa',\n",
       " 'set_agg_filter',\n",
       " 'set_alpha',\n",
       " 'set_animated',\n",
       " 'set_antialiased',\n",
       " 'set_bounds',\n",
       " 'set_capstyle',\n",
       " 'set_clip_box',\n",
       " 'set_clip_on',\n",
       " 'set_clip_path',\n",
       " 'set_color',\n",
       " 'set_contains',\n",
       " 'set_ec',\n",
       " 'set_edgecolor',\n",
       " 'set_facecolor',\n",
       " 'set_fc',\n",
       " 'set_figure',\n",
       " 'set_fill',\n",
       " 'set_gid',\n",
       " 'set_hatch',\n",
       " 'set_height',\n",
       " 'set_in_layout',\n",
       " 'set_joinstyle',\n",
       " 'set_label',\n",
       " 'set_linestyle',\n",
       " 'set_linewidth',\n",
       " 'set_ls',\n",
       " 'set_lw',\n",
       " 'set_path_effects',\n",
       " 'set_picker',\n",
       " 'set_rasterized',\n",
       " 'set_sketch_params',\n",
       " 'set_snap',\n",
       " 'set_transform',\n",
       " 'set_url',\n",
       " 'set_visible',\n",
       " 'set_width',\n",
       " 'set_x',\n",
       " 'set_xy',\n",
       " 'set_y',\n",
       " 'set_zorder',\n",
       " 'stale',\n",
       " 'stale_callback',\n",
       " 'sticky_edges',\n",
       " 'update',\n",
       " 'update_from',\n",
       " 'validCap',\n",
       " 'validJoin',\n",
       " 'xy',\n",
       " 'zorder']"
      ]
     },
     "execution_count": 36,
     "metadata": {},
     "output_type": "execute_result"
    }
   ],
   "source": [
    "dir(r[0])"
   ]
  },
  {
   "cell_type": "code",
   "execution_count": 63,
   "metadata": {
    "ExecuteTime": {
     "end_time": "2020-07-13T08:44:58.070454Z",
     "start_time": "2020-07-13T08:44:58.066633Z"
    }
   },
   "outputs": [
    {
     "name": "stdout",
     "output_type": "stream",
     "text": [
      "Bbox(x0=0.0, y0=-0.4, x1=10.0, y1=0.4)\n",
      "0.0\n",
      "Bbox(x0=0.0, y0=0.6, x1=9.0, y1=1.4)\n",
      "0.0\n",
      "Bbox(x0=0.0, y0=1.6, x1=5.0, y1=2.4000000000000004)\n",
      "0.0\n",
      "Bbox(x0=0.0, y0=2.6, x1=5.0, y1=3.4000000000000004)\n",
      "0.0\n"
     ]
    }
   ],
   "source": [
    "for i in range(4):\n",
    "    print(r[i].get_bbox())\n",
    "    print(r[i].get_bbox().x0)"
   ]
  },
  {
   "cell_type": "code",
   "execution_count": 42,
   "metadata": {
    "ExecuteTime": {
     "end_time": "2020-07-13T05:17:47.612279Z",
     "start_time": "2020-07-13T05:17:47.597742Z"
    }
   },
   "outputs": [],
   "source": [
    "im = mpimg.imread(fichier)"
   ]
  },
  {
   "cell_type": "code",
   "execution_count": 44,
   "metadata": {
    "ExecuteTime": {
     "end_time": "2020-07-13T05:17:53.069831Z",
     "start_time": "2020-07-13T05:17:53.066305Z"
    }
   },
   "outputs": [
    {
     "data": {
      "text/plain": [
       "(480, 640, 3)"
      ]
     },
     "execution_count": 44,
     "metadata": {},
     "output_type": "execute_result"
    }
   ],
   "source": [
    "im.shape"
   ]
  },
  {
   "cell_type": "code",
   "execution_count": 62,
   "metadata": {
    "ExecuteTime": {
     "end_time": "2020-07-13T08:28:33.357807Z",
     "start_time": "2020-07-13T08:28:33.232919Z"
    }
   },
   "outputs": [
    {
     "data": {
      "image/png": "[encoded data removed]",
      "text/plain": [
       "<Figure size 576x396 with 1 Axes>"
      ]
     },
     "metadata": {},
     "output_type": "display_data"
    }
   ],
   "source": [
    "import matplotlib.pyplot as plt\n",
    "import numpy as np; np.random.seed(42)\n",
    "\n",
    "data = np.random.rand(10,10)*10\n",
    "\n",
    "fig, ax = plt.subplots()\n",
    "\n",
    "im = ax.imshow(data, extent=[-5, 5, -10, 10])\n",
    "im = ax.imshow(data, extent=[0, 5, -10, 10])"
   ]
  },
  {
   "cell_type": "code",
   "execution_count": null,
   "metadata": {},
   "outputs": [],
   "source": []
  },
  {
   "cell_type": "code",
   "execution_count": null,
   "metadata": {},
   "outputs": [],
   "source": []
  },
  {
   "cell_type": "code",
   "execution_count": 86,
   "metadata": {
    "ExecuteTime": {
     "end_time": "2020-07-13T09:30:28.738525Z",
     "start_time": "2020-07-13T09:30:28.586820Z"
    }
   },
   "outputs": [
    {
     "data": {
      "image/png": "[encoded data removed]",
      "text/plain": [
       "<Figure size 576x396 with 1 Axes>"
      ]
     },
     "metadata": {},
     "output_type": "display_data"
    }
   ],
   "source": [
    "import numpy as np\n",
    "import matplotlib.pyplot as plt\n",
    "from matplotlib.offsetbox import OffsetImage, AnnotationBbox\n",
    "\n",
    "fig, ax = plt.subplots()\n",
    "im = np.arange(10000).reshape((100, 100))\n",
    "im = OffsetImage(im)\n",
    "ab1 = AnnotationBbox(im, (0.5, 0.5),\n",
    "                    bboxprops =dict(edgecolor='red'))\n",
    "ab2 = AnnotationBbox(im, (0.8, 0.8), pad=0, box_alignment=(0, 1),)\n",
    "\n",
    "ax.add_artist(ab1)\n",
    "ax.add_artist(np.arange(10000).reshape((100, 100))ab2)\n",
    "plt.show()"
   ]
  },
  {
   "cell_type": "code",
   "execution_count": 93,
   "metadata": {
    "ExecuteTime": {
     "end_time": "2020-07-13T09:33:37.656533Z",
     "start_time": "2020-07-13T09:33:37.526624Z"
    }
   },
   "outputs": [
    {
     "data": {
      "image/png": "[encoded data removed]",
      "text/plain": [
       "<Figure size 576x396 with 1 Axes>"
      ]
     },
     "metadata": {},
     "output_type": "display_data"
    }
   ],
   "source": [
    "import numpy as np\n",
    "import matplotlib.pyplot as plt\n",
    "from matplotlib.offsetbox import OffsetImage, AnnotationBbox\n",
    "\n",
    "\n",
    "\n",
    "fig, ax = plt.subplots()\n",
    "ax.set_xlim([0, 10])\n",
    "ax.set_ylim([0, 10])\n",
    "\n",
    "im = np.arange(100).reshape((10, 10))\n",
    "im = ax.imshow(im, extent=(1,2, 3,4))\n",
    "ax.add_image(im)\n",
    "plt.show()"
   ]
  },
  {
   "cell_type": "code",
   "execution_count": null,
   "metadata": {},
   "outputs": [],
   "source": []
  },
  {
   "cell_type": "code",
   "execution_count": null,
   "metadata": {},
   "outputs": [],
   "source": []
  },
  {
   "cell_type": "code",
   "execution_count": null,
   "metadata": {},
   "outputs": [],
   "source": []
  }
 ],
 "metadata": {
  "kernelspec": {
   "display_name": "Python 3",
   "language": "python",
   "name": "python3"
  },
  "language_info": {
   "codemirror_mode": {
    "name": "ipython",
    "version": 3
   },
   "file_extension": ".py",
   "mimetype": "text/x-python",
   "name": "python",
   "nbconvert_exporter": "python",
   "pygments_lexer": "ipython3",
   "version": "3.6.9"
  }
 },
 "nbformat": 4,
 "nbformat_minor": 2
}
